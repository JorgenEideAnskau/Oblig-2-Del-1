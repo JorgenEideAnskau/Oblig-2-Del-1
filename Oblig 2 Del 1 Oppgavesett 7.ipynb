{
 "cells": [
  {
   "cell_type": "markdown",
   "metadata": {},
   "source": [
    "*Lagde databasen ved å skrive SQL-koden nedenfor:*"
   ]
  },
  {
   "cell_type": "code",
   "execution_count": null,
   "metadata": {
    "vscode": {
     "languageId": "sql"
    }
   },
   "outputs": [],
   "source": [
    "-- Skrev\n",
    "Use oblig2;"
   ]
  },
  {
   "cell_type": "code",
   "execution_count": null,
   "metadata": {
    "vscode": {
     "languageId": "sql"
    }
   },
   "outputs": [],
   "source": [
    "\n",
    "CREATE TABLE freelancer(\n",
    "pers_id INTEGER NOT NULL,\n",
    "fornavn VARCHAR(15),\n",
    "etternavn VARCHAR(15),\n",
    "PRIMARY KEY(pers_id)\n",
    ");\n",
    "CREATE TABLE freelancer_i_avis(\n",
    "pers_id INTEGER NOT NULL,\n",
    "avisnavn VARCHAR(20) NOT NULL,\n",
    "PRIMARY KEY(pers_id, avisnavn),\n",
    "FOREIGN KEY(pers_id) REFERENCES freelancer(pers_id)\n",
    ");\n",
    "CREATE TABLE freelancer_spesialitet(\n",
    "pers_id INTEGER NOT NULL,\n",
    "spesialitet VARCHAR(25) NOT NULL,\n",
    "PRIMARY KEY(pers_id, spesialitet),\n",
    "FOREIGN KEY(pers_id) REFERENCES freelancer(pers_id)\n",
    ");\n",
    "INSERT INTO freelancer VALUES(1001, 'Per', 'Olsen');\n",
    "INSERT INTO freelancer VALUES(1002, 'Anne', 'Jensen');\n",
    "INSERT INTO freelancer VALUES(1003, 'Jens-Eilert', 'Grimstad Olsen');\n",
    "INSERT INTO freelancer VALUES(1004, 'Anders', 'Jespersen');\n",
    "INSERT INTO freelancer VALUES(1005, 'Skandalemakeren', null);\n",
    "INSERT INTO freelancer_i_avis VALUES(1001, 'VG');\n",
    "INSERT INTO freelancer_i_avis VALUES(1001, 'Dagbladet');\n",
    "INSERT INTO freelancer_i_avis VALUES(1001, 'Aftenposten');\n",
    "INSERT INTO freelancer_i_avis VALUES(1001, 'Rabarbladet');\n",
    "INSERT INTO freelancer_i_avis VALUES(1002, 'VG');\n",
    "INSERT INTO freelancer_i_avis VALUES(1003, 'VG');\n",
    "INSERT INTO freelancer_i_avis VALUES(1003, 'Dagbladet');\n",
    "INSERT INTO freelancer_i_avis VALUES(1004, 'Aftenposten');\n",
    "INSERT INTO freelancer_i_avis VALUES(1004, 'Agderposten');\n",
    "INSERT INTO freelancer_i_avis VALUES(1004, 'Dagens Næringsliv');\n",
    "INSERT INTO freelancer_i_avis VALUES(1005, 'VG');\n",
    "INSERT INTO freelancer_spesialitet VALUES(1001, 'Sport');\n",
    "INSERT INTO freelancer_spesialitet VALUES(1001, 'Politikk');\n",
    "INSERT INTO freelancer_spesialitet VALUES(1002, 'Sport');\n",
    "INSERT INTO freelancer_spesialitet VALUES(1003, 'Kultur');\n",
    "INSERT INTO freelancer_spesialitet VALUES(1003, 'Politikk');\n",
    "INSERT INTO freelancer_spesialitet VALUES(1004, 'Midt-Østen');\n",
    "INSERT INTO freelancer_spesialitet VALUES(1004, 'Økonomi');\n",
    "INSERT INTO freelancer_spesialitet VALUES(1005, 'Det engelske kongehuset');\n"
   ]
  },
  {
   "cell_type": "markdown",
   "metadata": {},
   "source": [
    "## 1) List opp all informasjon om alle freelancere. "
   ]
  },
  {
   "cell_type": "code",
   "execution_count": null,
   "metadata": {
    "vscode": {
     "languageId": "sql"
    }
   },
   "outputs": [],
   "source": [
    "SELECT * FROM freelancer;"
   ]
  },
  {
   "cell_type": "markdown",
   "metadata": {},
   "source": [
    "## 2) List opp pers_id på alle freelancere. \n"
   ]
  },
  {
   "cell_type": "markdown",
   "metadata": {},
   "source": [
    "## 3) List opp navn på alle aviser. Hver avis skal bare vises en gang. \n",
    "\n"
   ]
  },
  {
   "cell_type": "markdown",
   "metadata": {},
   "source": [
    "## 4) List opp navnene på alle journalistene i VG. "
   ]
  },
  {
   "cell_type": "markdown",
   "metadata": {},
   "source": [
    "## 5) List opp fornavn og etternavn på alle freelancere som ikke jobber i VG. \n"
   ]
  },
  {
   "cell_type": "markdown",
   "metadata": {},
   "source": [
    "## 6) List opp alle freelancere som ikke har noe etternavn. \n"
   ]
  },
  {
   "cell_type": "markdown",
   "metadata": {},
   "source": [
    "## 7) List opp alle freelancere som har Olsen i etternavnet sitt. \n"
   ]
  },
  {
   "cell_type": "markdown",
   "metadata": {},
   "source": [
    "## 8) List opp alle freelancere som har akkurat Olsen som etternavn. \n"
   ]
  },
  {
   "cell_type": "markdown",
   "metadata": {},
   "source": [
    "## 9) List opp alle freelancere med fornavn som begynner på 'An'. \n"
   ]
  },
  {
   "cell_type": "markdown",
   "metadata": {},
   "source": [
    "## 10) List opp alle freelancere med etternavn som inneholder 'ls'. \n"
   ]
  },
  {
   "cell_type": "markdown",
   "metadata": {},
   "source": [
    "## 11) List opp alle freelancere med både fornavn som begynner på 'An' og etternavn som slutter på 'sen'. "
   ]
  },
  {
   "cell_type": "markdown",
   "metadata": {},
   "source": [
    "## 12) Hvilke(n) avis mangler freelancere som jobber med sport. "
   ]
  },
  {
   "cell_type": "markdown",
   "metadata": {},
   "source": [
    "## 13) Skriv ut freelancers fornavn, etternavn, avisnavn og spesialitet for alle freelancere."
   ]
  }
 ],
 "metadata": {
  "kernelspec": {
   "display_name": "Python 3",
   "language": "python",
   "name": "python3"
  },
  "language_info": {
   "codemirror_mode": {
    "name": "ipython",
    "version": 3
   },
   "file_extension": ".py",
   "mimetype": "text/x-python",
   "name": "python",
   "nbconvert_exporter": "python",
   "pygments_lexer": "ipython3",
   "version": "3.13.2"
  }
 },
 "nbformat": 4,
 "nbformat_minor": 2
}
