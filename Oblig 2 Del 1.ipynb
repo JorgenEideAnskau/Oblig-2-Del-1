{
 "cells": [
  {
   "cell_type": "markdown",
   "metadata": {},
   "source": [
    "# Test"
   ]
  },
  {
   "cell_type": "markdown",
   "metadata": {},
   "source": [
    "*Lagde databasen ved å skrive SQL-koden nedenfor:*"
   ]
  },
  {
   "cell_type": "code",
   "execution_count": null,
   "metadata": {
    "vscode": {
     "languageId": "sql"
    }
   },
   "outputs": [],
   "source": [
    "-- Lagde Database kalt Oblig2\n",
    "CREATE DATABASE Oblig2;"
   ]
  },
  {
   "cell_type": "markdown",
   "metadata": {},
   "source": [
    "Kjørte **SQL** koden fra `hobbyhuset.sql` filen."
   ]
  },
  {
   "cell_type": "markdown",
   "metadata": {},
   "source": [
    "# Oppgave 1\n",
    "### Utfør `hobbyhuset.sql` scriptet og gjør følgende oppgaver ved hjelp av SQL-spørringer mot databaseserveren:"
   ]
  },
  {
   "cell_type": "markdown",
   "metadata": {},
   "source": [
    "### 1. Finn Etternavn, Fornavn og beløpet på den kunden som har kjøpt mest totalt. "
   ]
  },
  {
   "cell_type": "code",
   "execution_count": null,
   "metadata": {
    "vscode": {
     "languageId": "sql"
    }
   },
   "outputs": [],
   "source": [
    "SELECT K.Etternavn, K.Fornavn, SUM(OL.Antall * OL.PrisPrEnhet) AS TotalBelop\n",
    "FROM Kunde AS K\n",
    "JOIN Ordre AS O ON K.KNr = O.KNr\n",
    "JOIN Ordrelinje AS OL ON O.OrdreNr = OL.OrdreNr\n",
    "GROUP BY K.KNr, K.Etternavn, K.Fornavn\n",
    "\n",
    "-- Filtrerer for å få kunden med det største `TotalBelop`\n",
    "HAVING TotalBelop = (\n",
    "-- bruker subquery-en MAX() for å finne det høyeste totale beløpet blant alle kunder.\n",
    "    SELECT MAX(X.Total) \n",
    "    FROM (\n",
    "        SELECT K2.KNr, SUM(OL2.Antall * OL2.PrisPrEnhet) AS Total\n",
    "        FROM Kunde AS K2\n",
    "        JOIN Ordre AS O2 ON K2.KNr = O2.KNr\n",
    "        JOIN Ordrelinje AS OL2 ON O2.OrdreNr = OL2.OrdreNr\n",
    "        GROUP BY K2.KNr\n",
    "    ) AS X\n",
    ");\n",
    "\n",
    "-- Til slutt filtreres resultatet slik at bare de kundene med et totalbeløp lik dette maksimumet blir vist (det kan bli flere om flere kunder har brukt like mye).\n"
   ]
  },
  {
   "cell_type": "markdown",
   "metadata": {},
   "source": [
    "Output:\n",
    "\n",
    "| **Etternavn** | **Fornavn** | **TotalBelop** |\n",
    "|-----------|---------|------------|\n",
    "| Langaas   | Evelyn  | 133711.00  |\n"
   ]
  },
  {
   "cell_type": "markdown",
   "metadata": {},
   "source": [
    "### 2. Finn Betegnelse(-ne) til vare(-r) som aldri har vært solgt. "
   ]
  },
  {
   "cell_type": "code",
   "execution_count": null,
   "metadata": {
    "vscode": {
     "languageId": "sql"
    }
   },
   "outputs": [],
   "source": [
    "SELECT V.Betegnelse \n",
    "FROM Vare AS V\n",
    "LEFT JOIN Ordrelinje AS O ON V.VNr = O.VNr\n",
    "WHERE O.OrdreNr IS NULL;"
   ]
  },
  {
   "cell_type": "markdown",
   "metadata": {},
   "source": [
    "Output:\n",
    "\n",
    "|**Betegnelse** |\n",
    "|-----------|\n",
    "|*\"No Data\"*|\n",
    "\n",
    "**Det ser ut som om alle varer har blitt solgt minst 1 gang*"
   ]
  },
  {
   "cell_type": "markdown",
   "metadata": {},
   "source": [
    "### 3. Finn den mest populære varen og hvor mange ordrer denne har inngått i. "
   ]
  },
  {
   "cell_type": "code",
   "execution_count": null,
   "metadata": {
    "vscode": {
     "languageId": "sql"
    }
   },
   "outputs": [],
   "source": [
    "SELECT V.Betegnelse, COUNT(O.OrdreNr) AS AntallOrdrer\n",
    "FROM Vare V\n",
    "JOIN Ordrelinje O ON V.VNr = O.VNr\n",
    "GROUP BY V.Betegnelse\n",
    "ORDER BY AntallOrdrer DESC\n",
    "LIMIT 1;"
   ]
  },
  {
   "cell_type": "markdown",
   "metadata": {},
   "source": [
    "Output:\n",
    "\n",
    "| **Betegnelse** | **AntallOrdrer** |\n",
    "|----------------|------------------|\n",
    "| Boule          | 66               |\n"
   ]
  },
  {
   "cell_type": "markdown",
   "metadata": {},
   "source": [
    "### 4. Finn den varen som var mest populær i september 2019. \n"
   ]
  },
  {
   "cell_type": "code",
   "execution_count": null,
   "metadata": {
    "vscode": {
     "languageId": "sql"
    }
   },
   "outputs": [],
   "source": [
    "SELECT V.Betegnelse, COUNT(O.OrdreNr) AS AntallOrdrer, P.Dato AS Måned\n",
    "FROM Vare V \n",
    "JOIN Ordrelinje O ON V.VNr = O.VNr\n",
    "JOIN Prishistorikk P ON V.VNr = P.VNr\n",
    "WHERE MONTHNAME(P.Dato) = 'September'\n",
    "GROUP BY V.Betegnelse, P.Dato\n",
    "ORDER BY AntallOrdrer\n",
    "LIMIT 1;"
   ]
  },
  {
   "cell_type": "markdown",
   "metadata": {},
   "source": [
    "Output:\n",
    "\n",
    "|**Betegnelse**|**AntallOrdrer**|**Måned**|\n",
    "|------------|--------------|-------|\n",
    "|Hobbyleire, hvit 1 kg|29|2019-09-29|"
   ]
  },
  {
   "cell_type": "markdown",
   "metadata": {},
   "source": [
    "### 5. Finn Etternavn, Fornavn til kunder som har mer enn 10 ordrer. \n"
   ]
  },
  {
   "cell_type": "code",
   "execution_count": null,
   "metadata": {
    "vscode": {
     "languageId": "sql"
    }
   },
   "outputs": [],
   "source": [
    "SELECT K.Etternavn, K.Fornavn, COUNT(O.OrdreNr) AS AntallOrdrer\n",
    "FROM Kunde K \n",
    "JOIN  Ordre O ON K.KNr = O.KNr\n",
    "GROUP BY K.KNr, K.Etternavn, K.Fornavn\n",
    "HAVING AntallOrdrer > 10;"
   ]
  },
  {
   "cell_type": "markdown",
   "metadata": {},
   "source": [
    "Output:\n",
    "\n",
    "| **Etternavn**   | **Fornavn**   | **AntallOrdrer** |\n",
    "|-----------------|---------------|------------------|\n",
    "| Hansson         | Gjermund      | 18               |\n",
    "| Astrup          | David         | 15               |\n",
    "| Dirdal          | Mimmi         | 12               |\n",
    "| Lian            | Villy         | 12               |\n",
    "| Akselsen        | Alex          | 12               |\n",
    "| Morken          | Ingmar        | 12               |\n",
    "| Mundal          | Jakob         | 12               |\n",
    "| Alexandersen    | Amina         | 12               |\n",
    "| Furu            | Ismail        | 12               |\n",
    "| Bjorke          | Goril         | 12               |\n",
    "| Berre           | Ian           | 12               |\n",
    "| Ekeberg         | Abdi          | 12               |\n",
    "| Hognestad       | Oddlaug       | 12               |\n",
    "| Hestad          | Adam          | 12               |\n"
   ]
  },
  {
   "cell_type": "markdown",
   "metadata": {},
   "source": [
    "### 6. Finn hvilken kunde som har flest ordrer. \n"
   ]
  },
  {
   "cell_type": "code",
   "execution_count": null,
   "metadata": {
    "vscode": {
     "languageId": "sql"
    }
   },
   "outputs": [],
   "source": [
    "SELECT K.Etternavn, K.Fornavn, COUNT(O.OrdreNr) AS AntallOrdrer\n",
    "FROM Kunde K \n",
    "JOIN Ordre O ON K.KNr = O.KNr \n",
    "GROUP BY K.Etternavn, K.Fornavn\n",
    "HAVING AntallOrdrer = (\n",
    "    SELECT MAX(X.Total)\n",
    "    FROM(\n",
    "        SELECT K2.KNr, COUNT(O2.OrdreNr) AS Total\n",
    "        FROM Kunde K2 \n",
    "        JOIN Ordre O2 ON K2.KNr = O2.KNr\n",
    "        GROUP BY K2.KNr\n",
    "    ) AS X\n",
    ")"
   ]
  },
  {
   "cell_type": "markdown",
   "metadata": {},
   "source": [
    "Output:\n",
    "\n",
    "| **Etternavn** | **Fornavn** | **AntallOrdrer** |\n",
    "|---------------|-------------|------------------|\n",
    "| Hansson       | Gjermund    | 18               |\n",
    "| Dammen        | Sven        | 18               |\n",
    "| Bremseth      | Mohamed     | 18               |"
   ]
  },
  {
   "cell_type": "markdown",
   "metadata": {},
   "source": [
    "### 7. Finn hvilken kunde som har færrest ordre. \n"
   ]
  },
  {
   "cell_type": "code",
   "execution_count": null,
   "metadata": {
    "vscode": {
     "languageId": "sql"
    }
   },
   "outputs": [],
   "source": [
    "SELECT K.Etternavn, K.Fornavn, COUNT(O.OrdreNr) AS AntallOrdrer\n",
    "FROM Kunde K \n",
    "JOIN Ordre O ON K.KNr = O.KNr\n",
    "GROUP BY K.Etternavn, K.Fornavn\n",
    "HAVING AntallOrdrer = (\n",
    "    SELECT MIN(X.Total)\n",
    "    FROM (\n",
    "        SELECT K2.KNr, COUNT(O2.OrdreNr) AS Total\n",
    "        FROM Kunde K2 \n",
    "        JOIN Ordre O2 ON K2.KNr = O2.KNr\n",
    "        GROUP BY K2.KNr\n",
    "    ) AS X\n",
    ");"
   ]
  },
  {
   "cell_type": "markdown",
   "metadata": {},
   "source": [
    "Output:\n",
    "\n",
    "| **Etternavn** | **Fornavn** | **AntallOrdrer** |\n",
    "|---------------|-------------|------------------|\n",
    "| Reinertsen    | Arne        | 1                |\n"
   ]
  },
  {
   "cell_type": "markdown",
   "metadata": {},
   "source": [
    "### 8. List alfabetisk kunder som kommer fra Hamar. \n",
    "\n"
   ]
  },
  {
   "cell_type": "code",
   "execution_count": null,
   "metadata": {
    "vscode": {
     "languageId": "sql"
    }
   },
   "outputs": [],
   "source": [
    "SELECT K.Etternavn, K.Fornavn, PS.Poststed AS Poststed\n",
    "FROM Kunde K \n",
    "JOIN Poststed PS ON K.PostNr = PS.PostNr\n",
    "WHERE Poststed = \"Hamar\"\n",
    "ORDER BY K.Etternavn;\n"
   ]
  },
  {
   "cell_type": "markdown",
   "metadata": {},
   "source": [
    "Output:\n",
    "\n",
    "| **Etternavn** | **Fornavn** | **Poststed** |\n",
    "|---------------|-------------|--------------|\n",
    "| Astrup        | David       | HAMAR        |\n",
    "| Bergstrom     | Hilmar      | HAMAR        |\n",
    "| Bjorke        | Goril       | HAMAR        |\n",
    "| Bjorke        | Goril       | HAMAR        |\n",
    "| Bjorke        | Goril       | HAMAR        |\n",
    "| Hauan         | Thore       | HAMAR        |\n",
    "| Holte         | Brian       | HAMAR        |\n",
    "| Holte         | Brian       | HAMAR        |\n",
    "| Mundal        | Jakob       | HAMAR        |\n"
   ]
  },
  {
   "cell_type": "markdown",
   "metadata": {},
   "source": [
    "### 9. Finn hvilke poststeder som ingen kunder eller ansatte bor i. \n"
   ]
  },
  {
   "cell_type": "code",
   "execution_count": null,
   "metadata": {
    "vscode": {
     "languageId": "sql"
    }
   },
   "outputs": [],
   "source": [
    "SELECT PS.Poststed, COUNT(K.KNr) AS AntallKunder, COUNT(A.AnsNr) AS AntallAnsatte\n",
    "FROM Poststed PS\n",
    "LEFT JOIN Kunde K ON PS.PostNr = K.PostNr\n",
    "LEFT JOIN Ansatt A ON PS.PostNr = A.PostNr\n",
    "GROUP BY Poststed\n",
    "HAVING AntallKunder = 0\n",
    "    AND AntallAnsatte = 0\n",
    "\n",
    "-- !!!Begrenser til 10 stk for å gjøre det lettere å vise i PDF-en \n",
    "LIMIT 10;\n"
   ]
  },
  {
   "cell_type": "markdown",
   "metadata": {},
   "source": [
    "| **Poststed**     | **AntallKunder** | **AntallAnsatte** |\n",
    "|------------------|------------------|-------------------|\n",
    "| SANDVIKA         | 0                | 0                 |\n",
    "| HASLUM           | 0                | 0                 |\n",
    "| FORNEBU          | 0                | 0                 |\n",
    "| JAR              | 0                | 0                 |\n",
    "| RUD              | 0                | 0                 |\n",
    "| HoVIKODDEN       | 0                | 0                 |\n",
    "| SLEPENDEN        | 0                | 0                 |\n",
    "| VoYENENGA        | 0                | 0                 |\n",
    "| EIKSMARKA        | 0                | 0                 |\n",
    "| BAERUMS VERK     | 0                | 0                 |\n"
   ]
  },
  {
   "cell_type": "markdown",
   "metadata": {},
   "source": [
    "### 10. Finn dato og antall salg på den beste salgsdagen. \n"
   ]
  },
  {
   "cell_type": "code",
   "execution_count": null,
   "metadata": {
    "vscode": {
     "languageId": "sql"
    }
   },
   "outputs": [],
   "source": [
    "SELECT OrdreDato, COUNT(OrdreNr) AS AntallOrdrer\n",
    "FROM Ordre\n",
    "GROUP BY OrdreDato\n",
    "HAVING AntallOrdrer = (\n",
    "    SELECT MAX(X.Total)\n",
    "    FROM (\n",
    "        SELECT O2.OrdreDato, COUNT(O2.OrdreNr) AS Total \n",
    "        FROM Ordre O2 \n",
    "        GROUP BY O2.OrdreDato\n",
    "    ) AS X\n",
    ");"
   ]
  }
 ],
 "metadata": {
  "kernelspec": {
   "display_name": "Python 3",
   "language": "python",
   "name": "python3"
  },
  "language_info": {
   "codemirror_mode": {
    "name": "ipython",
    "version": 3
   },
   "file_extension": ".py",
   "mimetype": "text/x-python",
   "name": "python",
   "nbconvert_exporter": "python",
   "pygments_lexer": "ipython3",
   "version": "3.13.2"
  }
 },
 "nbformat": 4,
 "nbformat_minor": 2
}
